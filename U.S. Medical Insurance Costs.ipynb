{
 "cells": [
  {
   "cell_type": "markdown",
   "metadata": {},
   "source": [
    "# U.S. Medical Insurance Costs\n",
    "\n",
    "In this project, a **CSV** file with medical insurance costs will be investigated using Python fundamentals. The goal with this project will be to analyze various attributes within **insurance.csv** to learn more about the patient information in the file and gain insights into potential use cases for the dataset.\n",
    "\n",
    "To start, we need to import a **csv** library in order to work with the **insurance.csv** data. "
   ]
  },
  {
   "cell_type": "code",
   "execution_count": 1,
   "metadata": {},
   "outputs": [],
   "source": [
    "# Importing modules\n",
    "import csv"
   ]
  },
  {
   "cell_type": "markdown",
   "metadata": {},
   "source": [
    "Examining the **insurance.csv** dataset above, we can see that there are 7 given columns:\n",
    "\n",
    "- Patient's age\n",
    "- Patient's sex\n",
    "- Patient's BMI\n",
    "- Patient's number of children\n",
    "- Patient's smoking status\n",
    "- Patient's regional location\n",
    "- Patient's medical insurance cost\n",
    "\n",
    "Since the data is currently stored in a CSV file, it is difficult to manipulate and analyze. For easier analysis, we will create empty lists for each of the columns below and then, using a function, store the datapoints of the CSV file in the appropriate lists. \n",
    "\n",
    "We should also verify that there is no missing infromation from the dataset.\n"
   ]
  },
  {
   "cell_type": "code",
   "execution_count": 2,
   "metadata": {},
   "outputs": [
    {
     "name": "stdout",
     "output_type": "stream",
     "text": [
      "True\n"
     ]
    }
   ],
   "source": [
    "# Empty attributes\n",
    "ages = []\n",
    "sexes = []\n",
    "bmis = []\n",
    "num_children = []\n",
    "smoker_statuses = []\n",
    "regions = []\n",
    "insurance_сosts = []\n",
    "\n",
    "# Loading csv data with a function\n",
    "def load_list_data(list, csv_file, column_name):\n",
    "    # open csv file\n",
    "    with open(csv_file) as csv_info:\n",
    "        # read the data from the csv file\n",
    "        csv_dict = csv.DictReader(csv_info)\n",
    "        # loop through the data in each row of the csv \n",
    "        for row in csv_dict:\n",
    "            # add the data from each row to a list\n",
    "            list.append(row[column_name])\n",
    "        # return the list\n",
    "        return list\n",
    "# look at the data in insurance_csv_dict\n",
    "load_list_data(ages, \"insurance.csv\", \"age\")\n",
    "load_list_data(sexes, \"insurance.csv\", \"sex\")\n",
    "load_list_data(bmis, \"insurance.csv\", \"bmi\")\n",
    "load_list_data(num_children, \"insurance.csv\", \"children\")\n",
    "load_list_data(smoker_statuses, \"insurance.csv\", \"smoker\")\n",
    "load_list_data(regions, \"insurance.csv\", \"region\")\n",
    "load_list_data(insurance_сosts, \"insurance.csv\", \"charges\")\n",
    "\n",
    "# Verifying that each column does not have nulls and there is not missing any information\n",
    "print(len(ages) == (len(sexes)) == (len(bmis)) == (len(num_children)) == (len(smoker_statuses)) == (len(regions)) == (len(insurance_сosts)))"
   ]
  },
  {
   "cell_type": "markdown",
   "metadata": {},
   "source": [
    "Now that all the data from **insurance.csv** neatly organized into labeled lists, the analysis can be started. We plan to answer the following questions: \n",
    "1. What is the average age of the patients in the dataset?\n",
    "2. What is the difference between male and female average insurance?\n",
    "3. Where are a majority of the individuals are from?\n",
    "4. What is the different between smokers and non-smokers costs?\n",
    "5. How does having a child effect inusrance costs?\n",
    "6. How does a BMI affect an insurance cost?\n",
    "7. What are the average yearly medical charges per patient?\n",
    "\n",
    "To perform these inspections, a class called **PatientsInfo** has been built out which contains the following methods:\n",
    "- analyze_ages()\n",
    "- analyze_sexes_costs()\n",
    "- analyze_regions_costs()\n",
    "- analyze_smokers_costs()\n",
    "- analyze_num_children_costs:\n",
    "- analyze_bmis_costs()\n",
    "- average_costs()\n",
    "- create_dictionary()\n",
    "\n",
    "The class has been built out below. "
   ]
  },
  {
   "cell_type": "code",
   "execution_count": 3,
   "metadata": {},
   "outputs": [],
   "source": [
    "# Building classes to analyze data\n",
    "class PatientsInfo:\n",
    "    # init method that takes in each list parameter\n",
    "    def __init__(self, patients_ages, patients_sexes, patients_bmis, patients_num_children, \n",
    "patients_smoker_statuses, patients_regions, patients_costs):\n",
    "        self.patients_ages = patients_ages\n",
    "        self.patients_sexes = patients_sexes\n",
    "        self.patients_bmis = patients_bmis\n",
    "        self.patients_num_children = patients_num_children\n",
    "        self.patients_smoker_statuses = patients_smoker_statuses\n",
    "        self.patients_regions = patients_regions\n",
    "        self.patients_costs = patients_costs\n",
    "        \n",
    "# 1. What is the average age of the patients in the dataset?\n",
    "    def analyze_ages(self):\n",
    "        # initialize total age at zero\n",
    "        total_age = 0\n",
    "        # iterate through all ages in the ages list\n",
    "        for age in self.patients_ages:\n",
    "            # sum of the total age\n",
    "            total_age += int(age)\n",
    "        # return total age divided by the length of the patient list\n",
    "        return (\"Average Patient Age: \" + str(round(total_age/len(self.patients_ages), 1)) + \" years\")\n",
    "\n",
    "# 2. What is the difference between male and female average insurance?\n",
    "    def analyze_sexes_costs(self):\n",
    "        # separate male and female insurance costs into empty lists\n",
    "        female_costs = []\n",
    "        male_costs = []\n",
    "        # iterate through each sex in the sexes list\n",
    "        for sex, cost in list(zip(self.patients_sexes, self.patients_costs)):\n",
    "            # if female add to female variable\n",
    "            if sex == \"female\":\n",
    "                female_costs.append(float(cost))\n",
    "            # if male add to male variable\n",
    "            elif sex == \"male\":\n",
    "                male_costs.append(float(cost))\n",
    "        # find average cost for each sex rounded to two decimal places, and the difference between them\n",
    "        male_average_cost = round(sum(male_costs) / len(male_costs), 2)\n",
    "        female_average_cost = round(sum(female_costs) / len(female_costs), 2)\n",
    "        cost_difference = abs(male_average_cost - female_average_cost)\n",
    "        # print the results\n",
    "        if male_average_cost < female_average_cost:\n",
    "            return \"The average male insurance cost is ${} and the average femaile cost is ${}, so the male insurance is cheaper by ${} on average.\".format(male_average_cost, female_average_cost, cost_difference)\n",
    "        else: \n",
    "            return \"The average male insurance cost is ${} and the average femaile cost is ${}, so the female insurance is cheaper by ${} on average.\".format(male_average_cost, female_average_cost, cost_difference)\n",
    "\n",
    "\n",
    "# 3. Where are a majority of the individuals are from?\n",
    "    def analyze_regions_costs(self):\n",
    "        # separate costs from each region into their own respective lists\n",
    "        sw_costs = []\n",
    "        se_costs = []\n",
    "        nw_costs = []\n",
    "        ne_costs = []\n",
    "        region_costs = list(zip(self.patients_regions, self.patients_costs))\n",
    "        for region, cost in region_costs:\n",
    "            if region == \"southwest\":\n",
    "                sw_costs.append(float(cost))\n",
    "            elif region == \"southeast\":\n",
    "                se_costs.append(float(cost))\n",
    "            elif region == \"northwest\":\n",
    "                nw_costs.append(float(cost))\n",
    "            elif region == \"northeast\":\n",
    "                ne_costs.append(float(cost))\n",
    "        # find average cost for each list, rounded to two decimal places\n",
    "        sw_avg_cost = round(sum(sw_costs) / len(sw_costs), 2)\n",
    "        se_avg_cost = round(sum(se_costs) / len(se_costs), 2)\n",
    "        nw_avg_cost = round(sum(nw_costs) / len(nw_costs), 2)\n",
    "        ne_avg_cost = round(sum(ne_costs) / len(ne_costs), 2)\n",
    "        # print the results\n",
    "        print(\"The average insurance cost per region of the U.S. is as follows:\\nNortheast: ${} \\nSoutheast: ${} \\nSouthwest: ${} \\nNorthwest: ${}\".format(sw_avg_cost, se_avg_cost, nw_avg_cost, ne_avg_cost))\n",
    "\n",
    "\n",
    "# 4. What is the different between smokers and non-smokers costs?\n",
    "    def analyze_smokers_costs(self):\n",
    "        # separating costs of smokers and non-smokers into their own respective lists\n",
    "        smoker_costs = []\n",
    "        non_smoker_costs = []\n",
    "        # iterate through the smoker status and determine their number and charges\n",
    "        for status, cost in list(zip(self.patients_smoker_statuses, self.patients_costs)):\n",
    "            if status == \"yes\":\n",
    "                smoker_costs.append(float(cost))\n",
    "            elif status == \"no\":\n",
    "                non_smoker_costs.append(float(cost))\n",
    "        # find the average charges for smokes and non-smokers and the difference between them\n",
    "        average_smoker_cost = round(sum(smoker_costs) / len(smoker_costs), 2)\n",
    "        average_non_smoker_cost = round(sum(non_smoker_costs) / len(non_smoker_costs), 2)\n",
    "        avg_diff = abs(average_smoker_cost - average_non_smoker_cost)\n",
    "        # represent the average different in charges between smokers and non-smokers\n",
    "        print(\"The average smoker pays ${} more for insurance than the average non-smoker\".format(avg_diff))\n",
    "\n",
    "# 5. How does having a child effect inusrance costs?\n",
    "    def analyze_num_children_costs(self):\n",
    "        # separating costs of parents and non-parents into their own respective lists\n",
    "        parent_costs = []\n",
    "        non_parent_costs = []\n",
    "        # iterate through the smoker status and determine their number and charges\n",
    "        for num_children, cost in list(zip(self.patients_num_children, self.patients_costs)):\n",
    "            if int(num_children) >= 1:\n",
    "                parent_costs.append(float(cost))\n",
    "            else:\n",
    "                non_parent_costs.append(float(cost))\n",
    "        # find the average charges for parents and non-parents and the difference between them\n",
    "        average_parent_cost = round(sum(parent_costs) / len(parent_costs), 2)\n",
    "        average_non_parent_cost = round(sum(non_parent_costs) / len(non_parent_costs), 2)\n",
    "        avg_diff = abs(average_parent_cost - average_non_parent_cost)\n",
    "        # represent the average different in charges between smokers and non-smokers\n",
    "        print(\"The average parent pays ${} more for insurance than the average non-parent\".format(avg_diff))\n",
    "        \n",
    "# 6. How does a BMI affect an insurance cost?\n",
    "    def analyze_bmi_costs(self):\n",
    "        # according to the CDC, a healthy adult BMI is between 18.5 and 24.9 for both male and female\n",
    "        # using a different approach than above to obtain averages\n",
    "        # creating empty sum and count values for healthy and poor BMI patients' insurance costs\n",
    "        healthy_bmi_cost_sum = 0\n",
    "        healthy_count = 0\n",
    "        poor_bmi_cost_sum = 0\n",
    "        poor_count = 0\n",
    "        # adding insurance cost to the correct sum depending on BMI, and incrementing the count values\n",
    "        for bmi, cost in list(zip(self.patients_bmis, self.patients_costs)):\n",
    "            if float(bmi) >= 18.5 and float(bmi) <= 24.9:\n",
    "                healthy_bmi_cost_sum += float(cost)\n",
    "                healthy_count += 1\n",
    "            else:\n",
    "                poor_bmi_cost_sum += float(cost)\n",
    "                poor_count += 1\n",
    "        # finding averages by dividing the cost sums by the count values, and rounding to two decimal places\n",
    "        healthy_bmi_avg_cost = round(healthy_bmi_cost_sum/healthy_count, 2)\n",
    "        poor_bmi_avg_cost = round(poor_bmi_cost_sum/poor_count, 2)\n",
    "        avg_diff = poor_bmi_avg_cost - healthy_bmi_avg_cost\n",
    "        # printing a string with our results\n",
    "        print(\"According to the CDC, a healthy adult BMI is between 18.5 and 24.9 for both male and female. \\nOn average, a patient with a poor BMI pays ${}.\".format(avg_diff))\n",
    "\n",
    " # 7. What are the average yearly medical charges per patient?\n",
    "    def average_charges(self):\n",
    "        # initialize total_charges variable\n",
    "        total_charges = 0\n",
    "        # iterate through charges in the patients charges list\n",
    "        # add each charge to total_charge\n",
    "        for charge in self.patients_costs:\n",
    "            total_charges += float(charge)\n",
    "        # return the average charges rounded to the hundredths place\n",
    "        return (\"Average Yearly Medical Insurance Charges: ${}.\".format(round(total_charges/len(self.patients_costs), 2)))\n",
    "\n",
    "# Creating a dictionary with all patients information\n",
    "    def create_dictionary(self):\n",
    "        self.patients_dictionary = {}\n",
    "        self.patients_dictionary[\"age\"] = [int(age) for age in self.patients_ages]\n",
    "        self.patients_dictionary[\"sex\"] = self.patients_sexes\n",
    "        self.patients_dictionary[\"bmi\"] = self.patients_bmis\n",
    "        self.patients_dictionary[\"children\"] = self.patients_num_children\n",
    "        self.patients_dictionary[\"smoker\"] = self.patients_smoker_statuses\n",
    "        self.patients_dictionary[\"regions\"] = self.patients_regions\n",
    "        self.patients_dictionary[\"charges\"] = self.patients_costs\n",
    "        return self.patients_dictionary\n",
    "    \n"
   ]
  },
  {
   "cell_type": "markdown",
   "metadata": {},
   "source": [
    "Now we need to create an instance of the PatientsInfo class, and call each method to see the results of our analysis."
   ]
  },
  {
   "cell_type": "code",
   "execution_count": 4,
   "metadata": {},
   "outputs": [],
   "source": [
    "# Creating an instance so each method can be used to see the results of the analysis.\n",
    "patient_info = PatientsInfo(ages, sexes, bmis, num_children, smoker_statuses, regions, insurance_сosts)"
   ]
  },
  {
   "cell_type": "code",
   "execution_count": 5,
   "metadata": {},
   "outputs": [
    {
     "data": {
      "text/plain": [
       "'Average Patient Age: 39.2 years'"
      ]
     },
     "execution_count": 5,
     "metadata": {},
     "output_type": "execute_result"
    }
   ],
   "source": [
    "patient_info.analyze_ages()"
   ]
  },
  {
   "cell_type": "code",
   "execution_count": 6,
   "metadata": {},
   "outputs": [
    {
     "data": {
      "text/plain": [
       "'The average male insurance cost is $13956.75 and the average femaile cost is $12569.58, so the female insurance is cheaper by $1387.17 on average.'"
      ]
     },
     "execution_count": 6,
     "metadata": {},
     "output_type": "execute_result"
    }
   ],
   "source": [
    "patient_info.analyze_sexes_costs()"
   ]
  },
  {
   "cell_type": "code",
   "execution_count": 7,
   "metadata": {},
   "outputs": [
    {
     "name": "stdout",
     "output_type": "stream",
     "text": [
      "The average insurance cost per region of the U.S. is as follows:\n",
      "Northeast: $12346.94 \n",
      "Southeast: $14735.41 \n",
      "Southwest: $12417.58 \n",
      "Northwest: $13406.38\n"
     ]
    }
   ],
   "source": [
    "patient_info.analyze_regions_costs()"
   ]
  },
  {
   "cell_type": "code",
   "execution_count": 8,
   "metadata": {},
   "outputs": [
    {
     "name": "stdout",
     "output_type": "stream",
     "text": [
      "The average smoker pays $23615.96 more for insurance than the average non-smoker\n"
     ]
    }
   ],
   "source": [
    "patient_info.analyze_smokers_costs()"
   ]
  },
  {
   "cell_type": "code",
   "execution_count": 9,
   "metadata": {},
   "outputs": [
    {
     "name": "stdout",
     "output_type": "stream",
     "text": [
      "The average parent pays $1583.960000000001 more for insurance than the average non-parent\n"
     ]
    }
   ],
   "source": [
    "\n",
    "patient_info.analyze_num_children_costs()"
   ]
  },
  {
   "cell_type": "code",
   "execution_count": 10,
   "metadata": {},
   "outputs": [
    {
     "name": "stdout",
     "output_type": "stream",
     "text": [
      "According to the CDC, a healthy adult BMI is between 18.5 and 24.9 for both male and female. \n",
      "On average, a patient with a poor BMI pays $3466.0.\n"
     ]
    }
   ],
   "source": [
    "patient_info.analyze_bmi_costs()"
   ]
  },
  {
   "cell_type": "code",
   "execution_count": 11,
   "metadata": {},
   "outputs": [
    {
     "data": {
      "text/plain": [
       "'Average Yearly Medical Insurance Charges: $13270.42.'"
      ]
     },
     "execution_count": 11,
     "metadata": {},
     "output_type": "execute_result"
    }
   ],
   "source": [
    "patient_info.average_charges()"
   ]
  }
 ],
 "metadata": {
  "kernelspec": {
   "display_name": "base",
   "language": "python",
   "name": "python3"
  },
  "language_info": {
   "codemirror_mode": {
    "name": "ipython",
    "version": 3
   },
   "file_extension": ".py",
   "mimetype": "text/x-python",
   "name": "python",
   "nbconvert_exporter": "python",
   "pygments_lexer": "ipython3",
   "version": "3.9.12"
  },
  "orig_nbformat": 4,
  "vscode": {
   "interpreter": {
    "hash": "bad3e0717367b3cff4aae9c6c5645f8f35fe4ca9a016dd7720b001d80364b124"
   }
  }
 },
 "nbformat": 4,
 "nbformat_minor": 2
}
